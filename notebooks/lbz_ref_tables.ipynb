{
 "cells": [
  {
   "cell_type": "code",
   "execution_count": null,
   "id": "bec9eacb",
   "metadata": {},
   "outputs": [],
   "source": [
    "import polars as pl\n",
    "import os \n",
    "\n",
    "ref_path = \"../data/lbz-ref-tables\"\n",
    "files = os.listdir(ref_path)\n",
    "files"
   ]
  },
  {
   "cell_type": "code",
   "execution_count": null,
   "id": "26c17910",
   "metadata": {},
   "outputs": [],
   "source": [
    "ref_tables = {fl.strip(\".parquet\"): pl.read_parquet(os.path.join(ref_path, fl)) for fl in files if fl.endswith(\".parquet\")}\n",
    "for name, table in ref_tables.items():\n",
    "\tprint(f\"Table: {name}, Shape: {table.shape}, Columns: {table.columns}\")\n",
    "\tdisplay(table.head(5))"
   ]
  },
  {
   "cell_type": "code",
   "execution_count": null,
   "id": "d687d9c5",
   "metadata": {},
   "outputs": [],
   "source": []
  }
 ],
 "metadata": {
  "kernelspec": {
   "display_name": "implementation-guide",
   "language": "python",
   "name": "python3"
  },
  "language_info": {
   "codemirror_mode": {
    "name": "ipython",
    "version": 3
   },
   "file_extension": ".py",
   "mimetype": "text/x-python",
   "name": "python",
   "nbconvert_exporter": "python",
   "pygments_lexer": "ipython3",
   "version": "3.12.9"
  }
 },
 "nbformat": 4,
 "nbformat_minor": 5
}
